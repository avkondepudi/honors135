{
 "cells": [
  {
   "cell_type": "code",
   "execution_count": null,
   "id": "ad76ca31",
   "metadata": {},
   "outputs": [],
   "source": [
    "import torch \n",
    "import torchvision\n",
    "import torch.nn as nn\n",
    "import torch.nn.functional as F\n",
    "import numpy as np\n",
    "import torchvision.transforms as transforms\n",
    "\n",
    "from torch.nn.modules.loss import CrossEntropyLoss"
   ]
  },
  {
   "cell_type": "markdown",
   "id": "e840d76e",
   "metadata": {},
   "source": [
    "# Introduction\n",
    "\n",
    "https://github.com/yunjey/pytorch-tutorial/blob/master/tutorials/01-basics/pytorch_basics/main.py"
   ]
  },
  {
   "cell_type": "code",
   "execution_count": null,
   "id": "a41d27d3",
   "metadata": {},
   "outputs": [],
   "source": [
    "# Create tensors.\n",
    "x = torch.tensor(1., requires_grad=True)\n",
    "w = torch.tensor(2., requires_grad=True)\n",
    "b = torch.tensor(3., requires_grad=True)"
   ]
  },
  {
   "cell_type": "code",
   "execution_count": null,
   "id": "d1319889",
   "metadata": {},
   "outputs": [],
   "source": [
    "# Build a computational graph.\n",
    "y = w * x + b    # y = 2 * x + 3"
   ]
  },
  {
   "cell_type": "code",
   "execution_count": null,
   "id": "14e32790",
   "metadata": {},
   "outputs": [],
   "source": [
    "# Compute gradients.\n",
    "y.backward()"
   ]
  },
  {
   "cell_type": "code",
   "execution_count": null,
   "id": "5724794e",
   "metadata": {},
   "outputs": [],
   "source": [
    "# Print out the gradients.\n",
    "# Calculated using partial derivatives\n",
    "print(\"x.grad = {}\".format(x.grad.item()))  # x.grad = 2 \n",
    "print(\"w.grad = {}\".format(w.grad.item()))  # w.grad = 1 \n",
    "print(\"b.grad = {}\".format(b.grad.item()))  # b.grad = 1"
   ]
  },
  {
   "cell_type": "code",
   "execution_count": null,
   "id": "811d6578",
   "metadata": {},
   "outputs": [],
   "source": [
    "# Create tensors of shape (10, 3) and (10, 2).\n",
    "x = torch.randn(10, 3)\n",
    "y = torch.randn(10, 2)"
   ]
  },
  {
   "cell_type": "code",
   "execution_count": null,
   "id": "dfffe3b0",
   "metadata": {},
   "outputs": [],
   "source": [
    "# Build a fully connected layer.\n",
    "linear = nn.Linear(3, 2)\n",
    "print ('w: ', linear.weight)\n",
    "print ('b: ', linear.bias)"
   ]
  },
  {
   "cell_type": "code",
   "execution_count": null,
   "id": "7c9a278e",
   "metadata": {},
   "outputs": [],
   "source": [
    "# Build loss function and optimizer.\n",
    "criterion = nn.MSELoss()\n",
    "optimizer = torch.optim.Adam(linear.parameters(), lr=1e-4)"
   ]
  },
  {
   "cell_type": "code",
   "execution_count": null,
   "id": "fc20d049",
   "metadata": {},
   "outputs": [],
   "source": [
    "# Forward pass.\n",
    "pred = linear(x)"
   ]
  },
  {
   "cell_type": "code",
   "execution_count": null,
   "id": "e80f9daa",
   "metadata": {},
   "outputs": [],
   "source": [
    "# Compute loss.\n",
    "loss = criterion(pred, y)\n",
    "print('loss: ', loss.item())"
   ]
  },
  {
   "cell_type": "code",
   "execution_count": null,
   "id": "0c3b01da",
   "metadata": {},
   "outputs": [],
   "source": [
    "# Print out the gradients.\n",
    "print ('dL/dw: ', linear.weight.grad) \n",
    "print ('dL/db: ', linear.bias.grad)"
   ]
  },
  {
   "cell_type": "code",
   "execution_count": null,
   "id": "82415969",
   "metadata": {},
   "outputs": [],
   "source": [
    "# 1-step gradient descent.\n",
    "optimizer.step()"
   ]
  },
  {
   "cell_type": "code",
   "execution_count": null,
   "id": "6ddee0da",
   "metadata": {},
   "outputs": [],
   "source": [
    "# Print out the loss after 1-step gradient descent.\n",
    "pred = linear(x)\n",
    "loss = criterion(pred, y)\n",
    "print('loss after 1 step optimization: ', loss.item())"
   ]
  },
  {
   "cell_type": "markdown",
   "id": "9f557350",
   "metadata": {},
   "source": [
    "# Example\n",
    "\n",
    "Train Resnet18 model on the CIFAR10 dataset."
   ]
  },
  {
   "cell_type": "code",
   "execution_count": null,
   "id": "f17f3baa",
   "metadata": {},
   "outputs": [],
   "source": [
    "# Download and construct CIFAR10 dataset.\n",
    "\n",
    "# Mean and std for Resnet18 model pretrained on ImageNet\n",
    "means = [0.485, 0.456, 0.406]\n",
    "stds = [0.229, 0.224, 0.225]\n",
    "\n",
    "t = transforms.Compose([\n",
    "    transforms.ToTensor(),\n",
    "    transforms.Normalize(mean=means,\n",
    "                         std=stds)]\n",
    ")\n",
    "\n",
    "# Load dataset and apply transforms\n",
    "cifar10_dataset = torchvision.datasets.CIFAR10(root='./data/',\n",
    "                                           train=True, \n",
    "                                           transform=t,\n",
    "                                           download=True)"
   ]
  },
  {
   "cell_type": "code",
   "execution_count": null,
   "id": "27e787a8",
   "metadata": {},
   "outputs": [],
   "source": [
    "import matplotlib\n",
    "import matplotlib.pyplot as plt\n",
    "\n",
    "# https://jamesmccaffrey.wordpress.com/2020/08/07/displaying-cifar-10-images-using-pytorch/\n",
    "def imshow(img, means, stds):\n",
    "    original_img = torch.empty(img.shape)\n",
    "    for idx in range(3):\n",
    "        original_img[idx] = (img[idx] * stds[idx]) + means[idx]\n",
    "        \n",
    "    npimg = original_img.numpy()   # convert from tensor\n",
    "    plt.imshow(np.transpose(npimg, (1, 2, 0))) \n",
    "    plt.show()"
   ]
  },
  {
   "cell_type": "code",
   "execution_count": null,
   "id": "8624fe62",
   "metadata": {},
   "outputs": [],
   "source": [
    "# Labels for CIFAR10\n",
    "\n",
    "cifar10_idx_to_label = {\n",
    "    0: \"airplane\",\n",
    "    1: \"automobile\",\n",
    "    2: \"bird\",\n",
    "    3: \"cat\",\n",
    "    4: \"deer\",\n",
    "    5: \"dog\",\n",
    "    6: \"frog\",\n",
    "    7: \"horse\",\n",
    "    8: \"ship\",\n",
    "    9: \"truck\"\n",
    "}\n",
    "\n",
    "cifar10_idx_to_label"
   ]
  },
  {
   "cell_type": "code",
   "execution_count": null,
   "id": "6bdab751",
   "metadata": {},
   "outputs": [],
   "source": [
    "# Example 1\n",
    "imshow(cifar10_dataset[50][0], means, stds), cifar10_idx_to_label[cifar10_dataset[50][1]]"
   ]
  },
  {
   "cell_type": "code",
   "execution_count": null,
   "id": "e2fddf24",
   "metadata": {},
   "outputs": [],
   "source": [
    "# Example 2\n",
    "imshow(cifar10_dataset[100][0], means, stds), cifar10_idx_to_label[cifar10_dataset[100][1]]"
   ]
  },
  {
   "cell_type": "code",
   "execution_count": null,
   "id": "40ee13c1",
   "metadata": {},
   "outputs": [],
   "source": [
    "# Split data into training and validation datasets (80% & 20%)\n",
    "train_set, val_set = torch.utils.data.random_split(cifar10_dataset, [int(0.8*len(cifar10_dataset)), \n",
    "                                                                     int(0.2*len(cifar10_dataset))])\n",
    "# Fetch one data pair (read data from disk).\n",
    "image, label = train_set[0]\n",
    "print (image.size())\n",
    "print (label)"
   ]
  },
  {
   "cell_type": "code",
   "execution_count": null,
   "id": "d987257b",
   "metadata": {},
   "outputs": [],
   "source": [
    "# Data loader (this provides queues and threads in a very simple way).\n",
    "train_loader = torch.utils.data.DataLoader(dataset=train_set,\n",
    "                                           batch_size=64, \n",
    "                                           shuffle=True)\n",
    "\n",
    "val_loader = torch.utils.data.DataLoader(dataset=val_set,\n",
    "                                           batch_size=64, \n",
    "                                           shuffle=True)"
   ]
  },
  {
   "cell_type": "code",
   "execution_count": null,
   "id": "38e964e3",
   "metadata": {},
   "outputs": [],
   "source": [
    "# Download and load the ResNet-18.\n",
    "# Pretrained on ImageNet, but dataset too big for this tutorial.\n",
    "resnet = torchvision.models.resnet18(pretrained=True)\n",
    "\n",
    "# Only finetune the last layer.\n",
    "for param in resnet.parameters():\n",
    "    param.requires_grad = False\n",
    "\n",
    "# Replace the top layer for finetuning.\n",
    "resnet.fc = nn.Linear(resnet.fc.in_features, 10)"
   ]
  },
  {
   "cell_type": "code",
   "execution_count": null,
   "id": "fb3bc2c7",
   "metadata": {},
   "outputs": [],
   "source": [
    "# Build loss function and optimizer.\n",
    "criterion = CrossEntropyLoss()\n",
    "optimizer = torch.optim.Adam(resnet.parameters(), lr=1e-3, weight_decay=1e-6)"
   ]
  },
  {
   "cell_type": "code",
   "execution_count": null,
   "id": "bd077224",
   "metadata": {
    "scrolled": true
   },
   "outputs": [],
   "source": [
    "# Training\n",
    "\n",
    "# Save accuracy and losses\n",
    "accs, losses = [], []\n",
    "\n",
    "n_epochs = 100\n",
    "for epoch in range(n_epochs):\n",
    "    \n",
    "    for idx, batch in enumerate(train_loader):\n",
    "\n",
    "        resnet.train()\n",
    "        \n",
    "        # Calculate loss\n",
    "        pred, y = batch[0], batch[1]\n",
    "        output = resnet(pred)\n",
    "        loss = criterion(output, y)\n",
    "        \n",
    "        # Backpropagate loss\n",
    "        optimizer.zero_grad()\n",
    "        loss.backward()\n",
    "        optimizer.step()\n",
    "        \n",
    "        # Calculate predicted label and accuracy\n",
    "        yhat = torch.argmax(output.detach(), dim=1)\n",
    "        acc = torch.sum(torch.eq(yhat, y).view(-1)) / yhat.shape[0]\n",
    "        \n",
    "        accs.append(acc.item())\n",
    "        losses.append(loss.item())\n",
    "\n",
    "        print(\"Epoch: {}, Batch Index: {}\\nAccuracy: {}\\nLoss: {}\\n\\n\".format(epoch,\n",
    "                                                                          idx,\n",
    "                                                                          acc.item(), \n",
    "                                                                          loss.item()))"
   ]
  },
  {
   "cell_type": "code",
   "execution_count": null,
   "id": "6d918fc2",
   "metadata": {},
   "outputs": [],
   "source": [
    "# Plot accuracy and loss over time\n",
    "fig, axs = plt.subplots(1, 2, figsize=(20,10))\n",
    "\n",
    "axs[0].plot([i for i in range(len(accs))], accs, c=\"orange\")\n",
    "axs[0].set_title(\"Accuracy vs. Time\")\n",
    "axs[0].set_xlabel(\"Iterations\")\n",
    "axs[0].set_ylabel(\"Accuracy\")\n",
    "\n",
    "axs[1].plot([i for i in range(len(losses))], losses)\n",
    "axs[1].set_title(\"Loss vs. Time\")\n",
    "axs[1].set_xlabel(\"Iterations\")\n",
    "axs[1].set_ylabel(\"Loss\")"
   ]
  },
  {
   "cell_type": "code",
   "execution_count": null,
   "id": "3c98f930",
   "metadata": {},
   "outputs": [],
   "source": [
    "# Exercise: validate the model!"
   ]
  }
 ],
 "metadata": {
  "kernelspec": {
   "display_name": "srh",
   "language": "python",
   "name": "srh"
  },
  "language_info": {
   "codemirror_mode": {
    "name": "ipython",
    "version": 3
   },
   "file_extension": ".py",
   "mimetype": "text/x-python",
   "name": "python",
   "nbconvert_exporter": "python",
   "pygments_lexer": "ipython3",
   "version": "3.7.9"
  }
 },
 "nbformat": 4,
 "nbformat_minor": 5
}
